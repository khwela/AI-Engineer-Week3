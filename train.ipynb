
#Task 2- Deep learning with tensorflow/pytorch
{
 "cells": [
  {
   "cell_type": "code",
   "execution_count": 11,
   "id": "962eec81",
   "metadata": {},
   "outputs": [],
   "source": [
    "import numpy as np\n",
    "import matplotlib.pyplot as plt\n",
    "from tensorflow.keras.datasets import mnist\n",
    "from tensorflow.keras.utils import to_categorical\n",
    "from tensorflow.keras.models import Sequential\n",
    "from tensorflow.keras.layers import Conv2D, MaxPooling2D, Flatten, Dense, Dropout\n",
    "from tensorflow.keras.optimizers import Adam"
   ]
  },
  {
   "cell_type": "code",
   "execution_count": 12,
   "id": "9abe86fc",
   "metadata": {},
   "outputs": [],
   "source": [
    "\n",
    "import ssl\n",
    "ssl._create_default_https_context = ssl._create_unverified_context\n",
    "\n",
    "# Load MNIST dataset\n",
    "local_path = 'C:\\\\2025 COHORT FEB\\\\AI For Software Engineering\\\\Week__3\\\\Task_2\\\\mnist.npz'  \n",
    "with np.load(local_path) as data:\n",
    "\tx_train, y_train = data['x_train'], data['y_train']\n",
    "\tx_test, y_test = data['x_test'], data['y_test']\n",
    "\n",
    "# Normalize pixel values to [0, 1]\n",
    "x_train = x_train.astype('float32') / 255\n",
    "x_test = x_test.astype('float32') / 255\n",
    "\n",
    "# Reshape to (samples, height, width, channels)\n",
    "x_train = x_train[..., np.newaxis]\n",
    "x_test = x_test[..., np.newaxis]\n",
    "\n",
    "# One-hot encode labels\n",
    "y_train_cat = to_categorical(y_train, 10)\n",
    "y_test_cat = to_categorical(y_test, 10)"
   ]
  },
  {
   "cell_type": "code",
   "execution_count": 13,
   "id": "0012a4c5",
   "metadata": {},
   "outputs": [],
   "source": [
    "# Build CNN Model\n",
    "\n",
    "model = Sequential([\n",
    "    Conv2D(32, (3,3), activation='relu', input_shape=(28,28,1)),\n",
    "    MaxPooling2D((2,2)),\n",
    "    Conv2D(64, (3,3), activation='relu'),\n",
    "    MaxPooling2D((2,2)),\n",
    "    Flatten(),\n",
    "    Dense(128, activation='relu'),\n",
    "    Dropout(0.5),\n",
    "    Dense(10, activation='softmax')\n",
    "])\n",
    "\n",
    "model.compile(optimizer=Adam(), loss='categorical_crossentropy', metrics=['accuracy'])"
   ]
  },
  {
   "cell_type": "code",
   "execution_count": null,
   "id": "4b4cfed2",
   "metadata": {},
   "outputs": [],
   "source": []
  },
  {
   "cell_type": "code",
   "execution_count": 14,
   "id": "162b6c3e",
   "metadata": {},
   "outputs": [
    {
     "name": "stdout",
     "output_type": "stream",
     "text": [
      "Epoch 1/10\n",
      "422/422 - 13s - 32ms/step - accuracy: 0.8971 - loss: 0.3343 - val_accuracy: 0.9823 - val_loss: 0.0568\n",
      "Epoch 2/10\n",
      "422/422 - 10s - 24ms/step - accuracy: 0.9695 - loss: 0.1048 - val_accuracy: 0.9860 - val_loss: 0.0464\n",
      "Epoch 3/10\n",
      "422/422 - 10s - 25ms/step - accuracy: 0.9773 - loss: 0.0762 - val_accuracy: 0.9880 - val_loss: 0.0405\n",
      "Epoch 4/10\n",
      "422/422 - 11s - 26ms/step - accuracy: 0.9819 - loss: 0.0607 - val_accuracy: 0.9913 - val_loss: 0.0317\n",
      "Epoch 5/10\n",
      "422/422 - 12s - 28ms/step - accuracy: 0.9841 - loss: 0.0550 - val_accuracy: 0.9897 - val_loss: 0.0323\n",
      "Epoch 6/10\n",
      "422/422 - 11s - 26ms/step - accuracy: 0.9862 - loss: 0.0451 - val_accuracy: 0.9920 - val_loss: 0.0293\n",
      "Epoch 7/10\n",
      "422/422 - 11s - 26ms/step - accuracy: 0.9877 - loss: 0.0406 - val_accuracy: 0.9922 - val_loss: 0.0280\n",
      "Epoch 8/10\n",
      "422/422 - 11s - 27ms/step - accuracy: 0.9891 - loss: 0.0347 - val_accuracy: 0.9912 - val_loss: 0.0280\n",
      "Epoch 9/10\n",
      "422/422 - 11s - 26ms/step - accuracy: 0.9899 - loss: 0.0335 - val_accuracy: 0.9925 - val_loss: 0.0286\n",
      "Epoch 10/10\n",
      "422/422 - 11s - 26ms/step - accuracy: 0.9910 - loss: 0.0288 - val_accuracy: 0.9920 - val_loss: 0.0259\n",
      "Test accuracy: 0.9927\n"
     ]
    }
   ],
   "source": [
    "# Train the model\n",
    "history = model.fit(x_train, y_train_cat, epochs=10, batch_size=128, validation_split=0.1, verbose=2)\n",
    "\n",
    "\n",
    "#  Evaluate the model\n",
    "test_loss, test_acc = model.evaluate(x_test, y_test_cat, verbose=0)\n",
    "print(f\"Test accuracy: {test_acc:.4f}\")"
   ]
  },
  {
   "cell_type": "code",
   "execution_count": 15,
   "id": "5142c7db",
   "metadata": {},
   "outputs": [
    {
     "name": "stdout",
     "output_type": "stream",
     "text": [
      "\u001b[1m1/1\u001b[0m \u001b[32m━━━━━━━━━━━━━━━━━━━━\u001b[0m\u001b[37m\u001b[0m \u001b[1m0s\u001b[0m 81ms/step\n"
     ]
    },
    {
     "data": {
      "image/png": "[encoded data removed]",
      "text/plain": [
       "<Figure size 1500x300 with 5 Axes>"
      ]
     },
     "metadata": {},
     "output_type": "display_data"
    }
   ],
   "source": [
    "# Visualize predictions on 5 sample images\n",
    "\n",
    "indices = np.random.choice(len(x_test), 5, replace=False)\n",
    "sample_images = x_test[indices]\n",
    "sample_labels = y_test[indices]\n",
    "predictions = np.argmax(model.predict(sample_images), axis=1)\n",
    "\n",
    "plt.figure(figsize=(15, 3))\n",
    "for i, (img, true_label, pred_label) in enumerate(zip(sample_images, sample_labels, predictions)):\n",
    "    plt.subplot(1, 5, i+1)\n",
    "    plt.imshow(img.squeeze(), cmap='gray')\n",
    "    plt.title(f\"True: {true_label}\\nPred: {pred_label}\")\n",
    "    plt.axis('off')\n",
    "plt.show()\n"
   ]
  }
 ],
 "metadata": {
  "kernelspec": {
   "display_name": "Python 3",
   "language": "python",
   "name": "python3"
  },
  "language_info": {
   "codemirror_mode": {
    "name": "ipython",
    "version": 3
   },
   "file_extension": ".py",
   "mimetype": "text/x-python",
   "name": "python",
   "nbconvert_exporter": "python",
   "pygments_lexer": "ipython3",
   "version": "3.11.9"
  }
 },
 "nbformat": 4,
 "nbformat_minor": 5
}
