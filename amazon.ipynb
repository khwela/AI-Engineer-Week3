{
 "cells": [
  {
   "cell_type": "markdown",
   "id": "a296f651",
   "metadata": {},
   "source": [
    "TASK - 3 NLP with spaCy(Amazon  user reviews)"
   ]
  },
  {
   "cell_type": "code",
   "execution_count": 14,
   "id": "875f7b6e",
   "metadata": {},
   "outputs": [],
   "source": [
    "import spacy\n",
    "from textblob import TextBlob"
   ]
  },
  {
   "cell_type": "code",
   "execution_count": 15,
   "id": "f6f22b86",
   "metadata": {},
   "outputs": [],
   "source": [
    "# Load spaCy English model\n",
    "nlp = spacy.load(\"en_core_web_sm\")\n",
    "\n",
    "# Example Amazon product reviews\n",
    "reviews = [\n",
    "    \"I love my new Samsung Galaxy phone! The camera is amazing.\",\n",
    "    \"The Apple MacBook Pro is overpriced, but it's very fast.\",\n",
    "    \"This Sony TV is just terrible, the screen quality is disappointing.\",\n",
    "    \"Absolutely love the Nike Air Max shoes. Super comfortable!\",\n",
    "    \"The JBL headphones broke after two weeks. Very poor quality!\"\n",
    "]\n",
    "\n",
    "def extract_entities(text):\n",
    "    doc = nlp(text)\n",
    "    products = []\n",
    "    brands = []\n",
    "    for ent in doc.ents:\n",
    "        if ent.label_ == \"PRODUCT\":\n",
    "            products.append(ent.text)\n",
    "        if ent.label_ == \"ORG\":\n",
    "            brands.append(ent.text)\n",
    "    return products, brands\n",
    "\n",
    "def rule_based_sentiment(text):\n",
    "    blob = TextBlob(text)\n",
    "    polarity = blob.sentiment.polarity\n",
    "    if polarity > 0:\n",
    "        return \"Positive\"\n",
    "    elif polarity < 0:\n",
    "        return \"Negative\"\n",
    "    else:\n",
    "        return \"Neutral\""
   ]
  },
  {
   "cell_type": "code",
   "execution_count": 16,
   "id": "53d09ce8",
   "metadata": {},
   "outputs": [
    {
     "name": "stdout",
     "output_type": "stream",
     "text": [
      "Review: I love my new Samsung Galaxy phone! The camera is amazing.\n",
      "  Products: []\n",
      "  Brands: ['Samsung Galaxy']\n",
      "  Sentiment: Positive\n",
      "\n",
      "Review: The Apple MacBook Pro is overpriced, but it's very fast.\n",
      "  Products: []\n",
      "  Brands: ['The Apple MacBook Pro']\n",
      "  Sentiment: Positive\n",
      "\n",
      "Review: This Sony TV is just terrible, the screen quality is disappointing.\n",
      "  Products: []\n",
      "  Brands: ['Sony']\n",
      "  Sentiment: Negative\n",
      "\n",
      "Review: Absolutely love the Nike Air Max shoes. Super comfortable!\n",
      "  Products: []\n",
      "  Brands: []\n",
      "  Sentiment: Positive\n",
      "\n",
      "Review: The JBL headphones broke after two weeks. Very poor quality!\n",
      "  Products: []\n",
      "  Brands: ['JBL']\n",
      "  Sentiment: Negative\n",
      "\n"
     ]
    }
   ],
   "source": [
    "# Analyze each review\n",
    "for review in reviews:\n",
    "    products, brands = extract_entities(review)\n",
    "    sentiment = rule_based_sentiment(review)\n",
    "    print(f\"Review: {review}\")\n",
    "    print(f\"  Products: {products}\")\n",
    "    print(f\"  Brands: {brands}\")\n",
    "    print(f\"  Sentiment: {sentiment}\\n\")"
   ]
  }
 ],
 "metadata": {
  "kernelspec": {
   "display_name": "Python 3",
   "language": "python",
   "name": "python3"
  },
  "language_info": {
   "codemirror_mode": {
    "name": "ipython",
    "version": 3
   },
   "file_extension": ".py",
   "mimetype": "text/x-python",
   "name": "python",
   "nbconvert_exporter": "python",
   "pygments_lexer": "ipython3",
   "version": "3.11.9"
  }
 },
 "nbformat": 4,
 "nbformat_minor": 5
}
